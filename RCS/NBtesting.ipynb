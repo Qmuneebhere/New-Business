{
 "cells": [
  {
   "cell_type": "code",
   "execution_count": 1,
   "id": "da888c34",
   "metadata": {},
   "outputs": [],
   "source": [
    "import os\n",
    "import glob\n",
    "import pandas as pd\n",
    "from sqlalchemy import create_engine"
   ]
  },
  {
   "cell_type": "markdown",
   "id": "f56e224d",
   "metadata": {},
   "source": [
    "# CSV Data"
   ]
  },
  {
   "cell_type": "code",
   "execution_count": 2,
   "id": "7a8ac532",
   "metadata": {},
   "outputs": [],
   "source": [
    "path = 'C:\\\\Users\\\\MAQ\\\\New-Business\\\\RCS\\\\Sample\\\\'\n",
    "name = 'RCSLNK-MQ07.csv'"
   ]
  },
  {
   "cell_type": "markdown",
   "id": "ab0f733b",
   "metadata": {},
   "source": [
    "### Compare Columns"
   ]
  },
  {
   "cell_type": "code",
   "execution_count": 3,
   "id": "bf8bbc49",
   "metadata": {},
   "outputs": [],
   "source": [
    "SQLCols = [\"Acctnumber\", \"SSN\", \n",
    "           \"NAME\", \"Address\", \"Address2\", \"City\", \"State\", \"Zip\", \n",
    "           \"DateOfBirth\", \"HomePhone\", \"WorkPhone\", \"OtherPhone\", \"CellPhone\", \n",
    "           \"EffectiveDate\", \"CurrBalance\", \"LastPayDate\", \"LastPayAmt\", \"PlaceBatchID\", \n",
    "           \"ChgOffBalance\", \"ChgOffDate\", \"OwnerName\", \"OriginalCreditor\", \n",
    "           \"OutOfStatuteDate\", \"SendCBRNegNotice\", \"SendOOSNotice\", \n",
    "           \"ChargeOffCreditorName\"]"
   ]
  },
  {
   "cell_type": "markdown",
   "id": "f57ddcd2",
   "metadata": {},
   "source": [
    "### CSV Columns"
   ]
  },
  {
   "cell_type": "code",
   "execution_count": 4,
   "id": "59db0355",
   "metadata": {},
   "outputs": [],
   "source": [
    "CSVCols = [\"AcctID\", \"Acctnumber\", \"SSN\", \n",
    "           \"FirstName\", \"LastName\", \"Address\", \"Address2\", \"City\", \"State\", \"Zip\", \n",
    "           \"DateOfBirth\", \"HomePhone\", \"WorkPhone\", \"OtherPhone\", \"CellPhone\", \n",
    "           \"EffectiveDate\", \"CurrBalance\", \"LastPayDate\", \"LastPayAmt\", \"PlaceBatchID\", \n",
    "           \"ChgOffBalance\", \"ChgOffDate\", \"OwnerName\", \"OriginalCreditor\", \n",
    "           \"OutOfStatuteDate\", \"SendCBRNegNotice\", \"SendOOSNotice\", \n",
    "           \"ChargeOffCreditorName\"]\n",
    "\n",
    "CSVTextCols = [\"NAME\", \"Address\", \"Address2\", \"City\", \"State\", \"OwnerName\", \n",
    "               \"OriginalCreditor\", \"ChargeOffCreditorName\"]"
   ]
  },
  {
   "cell_type": "code",
   "execution_count": 5,
   "id": "4686554f",
   "metadata": {},
   "outputs": [],
   "source": [
    "def dataCSV(path, name, cols):\n",
    "\n",
    "    df = pd.read_csv(path + name, dtype=str)\n",
    "\n",
    "    # Filters only required column\n",
    "\n",
    "    df = df[cols]\n",
    "\n",
    "    # Concatename First and Last name column into a new column NAME\n",
    "\n",
    "    df['NAME'] = df.apply(lambda row: f\"{row['LastName']},{row['FirstName']}\", axis=1)\n",
    "    \n",
    "    # Sets AcctID as index\n",
    "    \n",
    "    df.set_index('AcctID', inplace=True)\n",
    "    \n",
    "    # Rearranges column\n",
    "    \n",
    "    df = df[SQLCols]\n",
    "    \n",
    "    # sorts dataframe according to index\n",
    "    \n",
    "    df.sort_index(inplace=True)\n",
    "\n",
    "    # Changes all text to UpperCase\n",
    "\n",
    "    df[CSVTextCols] = df[CSVTextCols].apply(lambda x: x.str.upper())\n",
    "\n",
    "    # Replace NaN values with empty strings\n",
    "    \n",
    "    df.fillna('', inplace=True)\n",
    "    \n",
    "    return df"
   ]
  },
  {
   "cell_type": "code",
   "execution_count": 6,
   "id": "cc9e9ff4",
   "metadata": {},
   "outputs": [],
   "source": [
    "dfCSV = dataCSV(path, name, CSVCols)"
   ]
  },
  {
   "cell_type": "markdown",
   "id": "a86fdb3b",
   "metadata": {},
   "source": [
    "# Accounts"
   ]
  },
  {
   "cell_type": "code",
   "execution_count": 7,
   "id": "93e7e55e",
   "metadata": {},
   "outputs": [],
   "source": [
    "def Accounts(path, name):\n",
    "\n",
    "    df = pd.read_csv(path + name, dtype=str)\n",
    "    \n",
    "    # Converts column of AcctID to a list\n",
    "    # with inverted commas around AcctID's\n",
    "\n",
    "    AcctIDList = (df['AcctID'].apply(lambda id: f\"'{id}'\")).tolist()\n",
    "\n",
    "    # Converts the list to a string for SQL query\n",
    "\n",
    "    AcctIDs = ','.join(AcctIDList)\n",
    "\n",
    "    return AcctIDs"
   ]
  },
  {
   "cell_type": "markdown",
   "id": "66224da3",
   "metadata": {},
   "source": [
    "# SQL Data"
   ]
  },
  {
   "cell_type": "code",
   "execution_count": 8,
   "id": "aee5f397",
   "metadata": {},
   "outputs": [],
   "source": [
    "date = '11-29-2023'\n",
    "accString = Accounts(path, name)"
   ]
  },
  {
   "cell_type": "code",
   "execution_count": 9,
   "id": "aa799469",
   "metadata": {},
   "outputs": [],
   "source": [
    "def dataSQL(date, accString):\n",
    "\n",
    "    # Configuration for SQL engine\n",
    "\n",
    "    server = 'unifin-sql'\n",
    "    usr = 'read_only'\n",
    "    pwd = 'Neustar01'\n",
    "    db = 'tiger'\n",
    "    driver = 'ODBC+Driver+17+for+SQL+Server'\n",
    "\n",
    "    config = f\"mssql+pyodbc://{usr}:{pwd}@{server}/{db}?driver={driver}\"\n",
    "\n",
    "    engine = create_engine(config)\n",
    "\n",
    "    # -----------------------DataFrame One----------------------- #\n",
    "\n",
    "    # Query for fetching Account Number\n",
    "\n",
    "    query1 = \"SELECT DBR_CLI_REF_NO AS 'AcctID', \\\n",
    "              RIGHT(ADR_NAME, LEN(ADR_NAME) - 1) AS 'Acctnumber' \\\n",
    "              FROM CDS.DBR INNER JOIN CDS.ADR ON DBR_NO = ADR_DBR_NO \\\n",
    "              WHERE DBR_CLI_REF_NO IN (\" + accString + \") AND ADR_SEQ_NO = 'R2' \\\n",
    "              AND DBR_ASSIGN_DATE_O = \" + f\"'{date}'\"\n",
    "\n",
    "    dfOne = pd.read_sql(query1, engine, dtype=str)\n",
    "\n",
    "    dfOne.set_index('AcctID', inplace=True)\n",
    "\n",
    "    # -----------------------DataFrame Two----------------------- #\n",
    "\n",
    "    # Query for fetching Name, SSN, Address, DOB\n",
    "\n",
    "    query2 = \"SELECT DBR_CLI_REF_NO AS 'AcctID', \\\n",
    "              DBR_NAME1 AS 'NAME', \\\n",
    "              ADR_TAX_ID AS 'SSN', \\\n",
    "              ADR_ADDR1 AS 'Address', \\\n",
    "              ADR_ADDR2 AS 'Address2', \\\n",
    "              ADR_CITY AS 'City', \\\n",
    "              ADR_STATE AS 'State', \\\n",
    "              ADR_ZIP_CODE AS 'Zip', \\\n",
    "              CONVERT(VARCHAR,ADR_DOB_O,101) AS 'DateOfBirth' \\\n",
    "              FROM CDS.DBR INNER JOIN CDS.ADR ON DBR_NO = ADR_DBR_NO \\\n",
    "              WHERE DBR_CLI_REF_NO IN (\" + accString + \") AND ADR_SEQ_NO = '01' \\\n",
    "              AND DBR_ASSIGN_DATE_O = \" + f\"'{date}'\"\n",
    "    \n",
    "    dfTwo = pd.read_sql(query2, engine, dtype=str)\n",
    "\n",
    "    dfTwo.set_index('AcctID', inplace=True)\n",
    "\n",
    "    # ----------------------DataFrame Three---------------------- #\n",
    "\n",
    "    # Query for Home Phone & Cell Phone\n",
    "\n",
    "    query3 = \"SELECT DBR_CLI_REF_NO AS 'AcctID', \\\n",
    "              ADR_PHONE1 AS 'HomePhone', \\\n",
    "              ADR_PHONE2 AS 'CellPhone' \\\n",
    "              FROM CDS.DBR INNER JOIN CDS.ADR ON DBR_NO = ADR_DBR_NO \\\n",
    "              WHERE DBR_CLI_REF_NO IN (\" + accString + \") AND ADR_SEQ_NO = '01' \\\n",
    "              AND DBR_ASSIGN_DATE_O = \" + f\"'{date}'\"\n",
    "\n",
    "    dfThree = pd.read_sql(query3, engine, dtype=str)\n",
    "\n",
    "    dfThree.set_index('AcctID', inplace=True)\n",
    "\n",
    "    # -----------------------DataFrame Four---------------------- #\n",
    "\n",
    "    # Query for Work Phone & Other Phone\n",
    "\n",
    "    query4 = \"SELECT DBR_CLI_REF_NO AS 'AcctID', \\\n",
    "              ADR_PHONE1 AS 'WorkPhone', \\\n",
    "              ADR_PHONE2 AS 'OtherPhone' \\\n",
    "              FROM CDS.DBR INNER JOIN CDS.ADR ON DBR_NO = ADR_DBR_NO \\\n",
    "              WHERE DBR_CLI_REF_NO IN (\" + accString + \") AND ADR_SEQ_NO = '11' \\\n",
    "              AND DBR_ASSIGN_DATE_O = \" + f\"'{date}'\"\n",
    "\n",
    "    dfFour = pd.read_sql(query4, engine, dtype=str)\n",
    "\n",
    "    dfFour.set_index('AcctID', inplace=True)\n",
    "    \n",
    "    # -----------------------DataFrame Five---------------------- #\n",
    "\n",
    "    # Query for Other DBR columns\n",
    "\n",
    "    query5 = \"SELECT DBR_CLI_REF_NO AS 'AcctID', \\\n",
    "              CONVERT(VARCHAR,DBR_ASSIGN_DATE_O,101) AS 'EffectiveDate', \\\n",
    "              DBR_ASSIGN_AMT AS 'CurrBalance', \\\n",
    "              CONVERT(VARCHAR,DBR_CL_DATES_3_O,101) AS 'LastPayDate', \\\n",
    "              DBR_CL_CODES_3 AS 'LastPayAmt', \\\n",
    "              DBR_CL_MISC_3 AS 'PlaceBatchID', \\\n",
    "              DBR_CL_CODES_1 AS 'ChgOffBalance', \\\n",
    "              CONVERT(VARCHAR,DBR_LAST_CHG_DATE_O,101) AS 'ChgOffDate', \\\n",
    "              DBR_CL_MISC_1 AS 'OwnerName', \\\n",
    "              DBR_CL_MISC_2 AS 'OriginalCreditor', \\\n",
    "              CONVERT(VARCHAR,DBR_CL_DATES_2_O,101) AS 'OutOfStatuteDate', \\\n",
    "              DBR_NegNotice_FLAG AS 'SendCBRNegNotice', \\\n",
    "              DBR_2_FLAG AS 'SendOOSNotice', \\\n",
    "              DBR_CL_MISC_2 AS 'ChargeOffCreditorName' \\\n",
    "              FROM CDS.DBR WHERE DBR_CLI_REF_NO IN (\" + accString + \") \\\n",
    "              AND DBR_ASSIGN_DATE_O = \" + f\"'{date}'\"\n",
    "\n",
    "    dfFive = pd.read_sql(query5, engine, dtype=str)\n",
    "\n",
    "    dfFive.set_index('AcctID', inplace=True)\n",
    "\n",
    "    # ---------------------Merging DataFrames-------------------- #\n",
    "\n",
    "    merged_df = pd.concat([dfOne, dfTwo, dfThree, dfFour, dfFive], axis=1)\n",
    "    \n",
    "    # sorts dataframe's columns\n",
    "    \n",
    "    sorted_df = merged_df[SQLCols]\n",
    "    \n",
    "    # sorts dataframe according to index\n",
    "    \n",
    "    sorted_df.sort_index(inplace=True)\n",
    "\n",
    "    # Replaces all whitespace string with empty\n",
    "\n",
    "    pattern = '^\\s*$'\n",
    "\n",
    "    replaced_df = sorted_df.replace(to_replace =pattern, value = '', regex = True)\n",
    "\n",
    "    # Replace NaN values with empty strings\n",
    "    \n",
    "    df = replaced_df.fillna('')\n",
    "\n",
    "    return df"
   ]
  },
  {
   "cell_type": "code",
   "execution_count": 10,
   "id": "94643af5",
   "metadata": {},
   "outputs": [],
   "source": [
    "dfSQL = dataSQL(date, accString)"
   ]
  },
  {
   "cell_type": "code",
   "execution_count": 11,
   "id": "3316469b",
   "metadata": {},
   "outputs": [],
   "source": [
    "def Comparison(dfCSV, dfSQL):\n",
    "\n",
    "    # Comparison dataframe\n",
    "\n",
    "    dfCompare = dfCSV == dfSQL\n",
    "\n",
    "    dfCompare = dfCompare.add_suffix('_Match')\n",
    "\n",
    "    # Renames both Dataframes\n",
    "\n",
    "    df1 = dfCSV.add_suffix('_CSV')\n",
    "\n",
    "    df2 = dfSQL.add_suffix('_SQL')\n",
    "\n",
    "    # Columns for comparison\n",
    "\n",
    "    cols = []\n",
    "\n",
    "    for col in SQLCols: cols = cols + [col + '_CSV', col + '_SQL', col + '_Match']\n",
    "\n",
    "    comparison_df = pd.concat([df1, df2, dfCompare], axis=1)\n",
    "    \n",
    "    # Rearranges columns\n",
    "\n",
    "    compare_df = comparison_df[cols]\n",
    "    \n",
    "    compare_df.reset_index(inplace=True)\n",
    "    \n",
    "    return compare_df"
   ]
  },
  {
   "cell_type": "code",
   "execution_count": 12,
   "id": "9aec2ae8",
   "metadata": {},
   "outputs": [],
   "source": [
    "compare = Comparison(dfCSV, dfSQL)"
   ]
  },
  {
   "cell_type": "code",
   "execution_count": 13,
   "id": "e0d770c7-b1c6-44a7-a443-cfedfb68942a",
   "metadata": {},
   "outputs": [],
   "source": [
    "compare.to_csv(path + 'compare.csv', index=False)"
   ]
  }
 ],
 "metadata": {
  "kernelspec": {
   "display_name": "Python 3 (ipykernel)",
   "language": "python",
   "name": "python3"
  },
  "language_info": {
   "codemirror_mode": {
    "name": "ipython",
    "version": 3
   },
   "file_extension": ".py",
   "mimetype": "text/x-python",
   "name": "python",
   "nbconvert_exporter": "python",
   "pygments_lexer": "ipython3",
   "version": "3.11.4"
  }
 },
 "nbformat": 4,
 "nbformat_minor": 5
}
